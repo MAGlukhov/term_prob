{
 "cells": [
  {
   "cell_type": "code",
   "execution_count": 1,
   "id": "6c7d88f2-61d7-482d-ac06-9304a0bc06d2",
   "metadata": {},
   "outputs": [],
   "source": [
    "import pandas as pd\n",
    "import numpy as np\n",
    "import time\n",
    "import matplotlib.pyplot as plt\n",
    "import seaborn as sns\n",
    "from sklearn.preprocessing import OneHotEncoder\n",
    "from sklearn.compose import ColumnTransformer\n",
    "from imblearn.under_sampling import RandomUnderSampler\n",
    "from sklearn.model_selection import StratifiedShuffleSplit, train_test_split\n",
    "from sklearn.model_selection import cross_validate\n",
    "from xgboost import XGBClassifier\n",
    "from sklearn.ensemble import RandomForestClassifier, RandomForestRegressor\n",
    "from sklearn.model_selection import train_test_split\n",
    "from sklearn.metrics import accuracy_score, confusion_matrix, classification_report\n",
    "from sklearn.inspection import permutation_importance\n",
    "from sklearn.model_selection import cross_val_score, KFold\n",
    "from sklearn.model_selection import StratifiedKFold\n",
    "from sklearn import preprocessing\n",
    "from sklearn.preprocessing import StandardScaler"
   ]
  },
  {
   "cell_type": "code",
   "execution_count": 2,
   "id": "a3fcc7c8-c93c-4656-bd95-45a0aa019c08",
   "metadata": {},
   "outputs": [],
   "source": [
    "df = pd.read_csv('Clean_Data.csv', sep=';', dtype= {'feat_class': 'object', 'feat_group_weeks': 'object'})\n",
    "df.drop(['student_email', 'group_title', 'prep_email', 'date_first_l', 'student_id', 'group_id'], axis=1, inplace=True)"
   ]
  },
  {
   "cell_type": "code",
   "execution_count": 3,
   "id": "25181d1a-7ad3-44c5-b6f1-033c921549f0",
   "metadata": {},
   "outputs": [
    {
     "name": "stdout",
     "output_type": "stream",
     "text": [
      "Категориальные столбцы для кодирования: ['feat_class', 'feat_group_weeks', 'feat_payment_type', 'feat_payment_place', 'feat_group_format']\n"
     ]
    }
   ],
   "source": [
    "categorical_cols = df[['feat_class', 'feat_group_weeks', 'feat_payment_type', 'feat_payment_place', 'feat_group_format']].columns.tolist()\n",
    "print(\"Категориальные столбцы для кодирования:\", categorical_cols)\n",
    "ohe = OneHotEncoder(\n",
    "    sparse_output=False,      \n",
    "    handle_unknown='ignore',\n",
    "    drop='first'             # Избегаем мультиколлинеарности\n",
    ")\n",
    "# Создаем преобразователь столбцов\n",
    "preprocessor = ColumnTransformer(\n",
    "    transformers=[\n",
    "        ('cat', ohe, categorical_cols)\n",
    "    ],\n",
    "    remainder='passthrough'  # че делаем с остальными столбцами\n",
    ")\n",
    "preprocessor.fit(df)\n",
    "encoded_data = preprocessor.transform(df)\n",
    "encoded_columns = preprocessor.named_transformers_['cat'].get_feature_names_out(categorical_cols)\n",
    "other_columns = [col for col in df.columns if col not in categorical_cols]\n",
    "all_columns = np.concatenate([encoded_columns, other_columns])\n",
    "encoded_df = pd.DataFrame(encoded_data, columns=all_columns)\n",
    "encoded_df_withHWcat = encoded_df.copy()\n",
    "encoded_df_withHWcat.drop('feat_good_agr_before', axis=1, inplace=True)"
   ]
  },
  {
   "cell_type": "code",
   "execution_count": 4,
   "id": "e2c70eaa-3190-449f-acd2-57252b644e18",
   "metadata": {},
   "outputs": [],
   "source": [
    "corr_df_full_feat = encoded_df_withHWcat.corr()\n",
    "df_full_feat_cor_vector = corr_df_full_feat.corr()['target'].drop('target')\n",
    "df_full_feat_cor_vector_we_need = df_full_feat_cor_vector[abs(df_full_feat_cor_vector) > 0.1]"
   ]
  },
  {
   "cell_type": "code",
   "execution_count": 6,
   "id": "9dac97c5-8026-4b13-8e73-a3aa53ff3885",
   "metadata": {},
   "outputs": [],
   "source": [
    "X = encoded_df_withHWcat[df_full_feat_cor_vector_we_need.index]\n",
    "y = encoded_df_withHWcat['target'].astype('int')"
   ]
  },
  {
   "cell_type": "code",
   "execution_count": 7,
   "id": "f689b902-d581-44e6-bd8b-05d87f10fbe4",
   "metadata": {},
   "outputs": [],
   "source": [
    "from imblearn.under_sampling import RandomUnderSampler\n",
    "RUS = RandomUnderSampler(random_state=42)\n",
    "X, y = RUS.fit_resample(X, y)"
   ]
  },
  {
   "cell_type": "code",
   "execution_count": 8,
   "id": "5419bca9-78f8-42d5-8dd1-5a6a12cb08b3",
   "metadata": {},
   "outputs": [],
   "source": [
    "X_train, X_test, y_train, y_test = train_test_split(X, y, train_size=0.66, random_state=42, stratify=y)\n",
    "X_test, X_val, y_test, y_val = train_test_split(X_test, y_test, train_size=0.5, random_state=42, stratify=y_test)"
   ]
  },
  {
   "cell_type": "code",
   "execution_count": 10,
   "id": "bdc1804a-216f-4b57-bea8-f9089cf65984",
   "metadata": {},
   "outputs": [],
   "source": [
    "kfold = KFold(n_splits=10, shuffle=True)\n",
    "skf = StratifiedKFold(n_splits=5, shuffle=True)"
   ]
  },
  {
   "cell_type": "code",
   "execution_count": 12,
   "id": "1eb8f055-be3c-403f-a810-a84508ba2b90",
   "metadata": {},
   "outputs": [
    {
     "name": "stdout",
     "output_type": "stream",
     "text": [
      "Classification_report for XGB\n",
      "\n",
      "               precision    recall  f1-score   support\n",
      "\n",
      "  Не расторг       0.84      0.85      0.84      1538\n",
      "     Расторг       0.85      0.84      0.84      1537\n",
      "\n",
      "    accuracy                           0.84      3075\n",
      "   macro avg       0.84      0.84      0.84      3075\n",
      "weighted avg       0.84      0.84      0.84      3075\n",
      "\n"
     ]
    }
   ],
   "source": [
    "#XGBClassifier\n",
    "XGB = XGBClassifier(\n",
    "    device=\"cuda\",\n",
    "    n_estimators=500,  # Количество деревьев\n",
    "    learning_rate=0.1,  # Скорость обучения\n",
    "    max_depth=2,       # Глубина деревье       \n",
    "    random_state=42\n",
    ")\n",
    "XGB.fit(X_train, y_train)\n",
    "y_pred_XGB = XGB.predict(X_val)\n",
    "print('Classification_report for XGB\\n\\n', classification_report(y_val, y_pred_XGB, target_names=['Не расторг','Расторг']))"
   ]
  },
  {
   "cell_type": "code",
   "execution_count": 14,
   "id": "86837ec2-a7a0-4146-ad97-7448bbea86a1",
   "metadata": {},
   "outputs": [
    {
     "name": "stdout",
     "output_type": "stream",
     "text": [
      "f-1 score: 0.832 \n",
      "Время кроссвалидации: 2.67 секунд\n"
     ]
    }
   ],
   "source": [
    "start = time.time()\n",
    "print(f'f-1 score: {round(cross_val_score(XGB, X, y, cv=skf, scoring='f1').mean(),3)} \\nВремя кроссвалидации: {round(time.time() - start,2)} секунд')"
   ]
  },
  {
   "cell_type": "code",
   "execution_count": null,
   "id": "681da73e-eca1-4276-910c-c88318a198f8",
   "metadata": {},
   "outputs": [],
   "source": []
  }
 ],
 "metadata": {
  "kernelspec": {
   "display_name": "Python 3 (ipykernel)",
   "language": "python",
   "name": "python3"
  },
  "language_info": {
   "codemirror_mode": {
    "name": "ipython",
    "version": 3
   },
   "file_extension": ".py",
   "mimetype": "text/x-python",
   "name": "python",
   "nbconvert_exporter": "python",
   "pygments_lexer": "ipython3",
   "version": "3.12.6"
  }
 },
 "nbformat": 4,
 "nbformat_minor": 5
}
