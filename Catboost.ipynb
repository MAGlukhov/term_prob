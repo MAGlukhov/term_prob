{
 "cells": [
  {
   "cell_type": "code",
   "execution_count": 7,
   "id": "46ed38de-4303-46c4-a819-bbcd662aa091",
   "metadata": {},
   "outputs": [],
   "source": [
    "import catboost\n",
    "import pandas as pd\n",
    "import seaborn as sns\n",
    "from matplotlib import pyplot as plt\n",
    "from sklearn.preprocessing import OneHotEncoder\n",
    "import time"
   ]
  },
  {
   "cell_type": "code",
   "execution_count": 8,
   "id": "d898db46-b6fa-431d-b6c1-2df525d89009",
   "metadata": {},
   "outputs": [],
   "source": [
    "df = pd.read_csv('Clean_Data.csv', sep=';')\n",
    "df_no_cat = df.drop(columns=['student_id','student_email','group_id','group_title','prep_email','date_first_l','feat_group_format','feat_payment_type','feat_payment_place'])\n",
    "df_cat = df[['feat_group_format','feat_payment_type','feat_payment_place']]"
   ]
  },
  {
   "cell_type": "code",
   "execution_count": 9,
   "id": "e4640c4d-0f60-494b-b371-b093eae2683b",
   "metadata": {},
   "outputs": [
    {
     "data": {
      "text/html": [
       "<div>\n",
       "<style scoped>\n",
       "    .dataframe tbody tr th:only-of-type {\n",
       "        vertical-align: middle;\n",
       "    }\n",
       "\n",
       "    .dataframe tbody tr th {\n",
       "        vertical-align: top;\n",
       "    }\n",
       "\n",
       "    .dataframe thead th {\n",
       "        text-align: right;\n",
       "    }\n",
       "</style>\n",
       "<table border=\"1\" class=\"dataframe\">\n",
       "  <thead>\n",
       "    <tr style=\"text-align: right;\">\n",
       "      <th></th>\n",
       "      <th>student_id</th>\n",
       "      <th>group_id</th>\n",
       "      <th>feat_class</th>\n",
       "      <th>feat_group_weeks</th>\n",
       "      <th>feat_group_size</th>\n",
       "      <th>feat_attendance</th>\n",
       "      <th>feat_HW</th>\n",
       "      <th>feat_HW_right</th>\n",
       "      <th>feat_theory_read</th>\n",
       "      <th>feat_TK</th>\n",
       "      <th>feat_LB</th>\n",
       "      <th>feat_tickets_we_need</th>\n",
       "      <th>feat_tickets_mb_term</th>\n",
       "      <th>feat_term_perc</th>\n",
       "      <th>feat_good_agr_before</th>\n",
       "      <th>target</th>\n",
       "      <th>feat_prep_attendence</th>\n",
       "      <th>feat_prep_HW</th>\n",
       "      <th>feat_prep_OpenLessons</th>\n",
       "    </tr>\n",
       "  </thead>\n",
       "  <tbody>\n",
       "    <tr>\n",
       "      <th>count</th>\n",
       "      <td>6.733800e+04</td>\n",
       "      <td>67338.000000</td>\n",
       "      <td>67338.000000</td>\n",
       "      <td>67338.000000</td>\n",
       "      <td>67338.000000</td>\n",
       "      <td>67338.000000</td>\n",
       "      <td>67338.000000</td>\n",
       "      <td>67338.000000</td>\n",
       "      <td>67338.000000</td>\n",
       "      <td>67338.000000</td>\n",
       "      <td>67338.000000</td>\n",
       "      <td>67338.000000</td>\n",
       "      <td>67338.000000</td>\n",
       "      <td>67338.000000</td>\n",
       "      <td>67338.000000</td>\n",
       "      <td>67338.000000</td>\n",
       "      <td>67338.000000</td>\n",
       "      <td>67338.000000</td>\n",
       "      <td>67338.000000</td>\n",
       "    </tr>\n",
       "    <tr>\n",
       "      <th>mean</th>\n",
       "      <td>5.819781e+06</td>\n",
       "      <td>40180.076435</td>\n",
       "      <td>10.248849</td>\n",
       "      <td>29.343268</td>\n",
       "      <td>21.898096</td>\n",
       "      <td>0.887237</td>\n",
       "      <td>0.618251</td>\n",
       "      <td>0.486862</td>\n",
       "      <td>0.438003</td>\n",
       "      <td>0.539958</td>\n",
       "      <td>2.826547</td>\n",
       "      <td>0.353990</td>\n",
       "      <td>0.023167</td>\n",
       "      <td>17.719212</td>\n",
       "      <td>0.938979</td>\n",
       "      <td>0.134293</td>\n",
       "      <td>0.929856</td>\n",
       "      <td>0.737299</td>\n",
       "      <td>4.658664</td>\n",
       "    </tr>\n",
       "    <tr>\n",
       "      <th>std</th>\n",
       "      <td>4.484174e+06</td>\n",
       "      <td>13695.909825</td>\n",
       "      <td>0.903591</td>\n",
       "      <td>6.640665</td>\n",
       "      <td>25.418138</td>\n",
       "      <td>0.208232</td>\n",
       "      <td>0.299286</td>\n",
       "      <td>0.257425</td>\n",
       "      <td>0.320549</td>\n",
       "      <td>0.308143</td>\n",
       "      <td>1.982354</td>\n",
       "      <td>1.174556</td>\n",
       "      <td>0.204566</td>\n",
       "      <td>6.715806</td>\n",
       "      <td>0.239370</td>\n",
       "      <td>0.340969</td>\n",
       "      <td>0.037516</td>\n",
       "      <td>0.102348</td>\n",
       "      <td>0.705510</td>\n",
       "    </tr>\n",
       "    <tr>\n",
       "      <th>min</th>\n",
       "      <td>2.742000e+03</td>\n",
       "      <td>13917.000000</td>\n",
       "      <td>9.000000</td>\n",
       "      <td>4.000000</td>\n",
       "      <td>1.000000</td>\n",
       "      <td>0.000000</td>\n",
       "      <td>0.000000</td>\n",
       "      <td>0.000000</td>\n",
       "      <td>0.000000</td>\n",
       "      <td>0.000000</td>\n",
       "      <td>0.000000</td>\n",
       "      <td>0.000000</td>\n",
       "      <td>0.000000</td>\n",
       "      <td>0.000000</td>\n",
       "      <td>0.000000</td>\n",
       "      <td>0.000000</td>\n",
       "      <td>0.620000</td>\n",
       "      <td>0.000000</td>\n",
       "      <td>0.000000</td>\n",
       "    </tr>\n",
       "    <tr>\n",
       "      <th>25%</th>\n",
       "      <td>3.075420e+05</td>\n",
       "      <td>28162.000000</td>\n",
       "      <td>9.000000</td>\n",
       "      <td>29.000000</td>\n",
       "      <td>12.000000</td>\n",
       "      <td>0.880000</td>\n",
       "      <td>0.400892</td>\n",
       "      <td>0.291120</td>\n",
       "      <td>0.150000</td>\n",
       "      <td>0.290000</td>\n",
       "      <td>1.000000</td>\n",
       "      <td>0.000000</td>\n",
       "      <td>0.000000</td>\n",
       "      <td>13.471503</td>\n",
       "      <td>1.000000</td>\n",
       "      <td>0.000000</td>\n",
       "      <td>0.909316</td>\n",
       "      <td>0.680000</td>\n",
       "      <td>4.150000</td>\n",
       "    </tr>\n",
       "    <tr>\n",
       "      <th>50%</th>\n",
       "      <td>9.000006e+06</td>\n",
       "      <td>36769.000000</td>\n",
       "      <td>11.000000</td>\n",
       "      <td>33.000000</td>\n",
       "      <td>16.000000</td>\n",
       "      <td>0.980000</td>\n",
       "      <td>0.677750</td>\n",
       "      <td>0.511811</td>\n",
       "      <td>0.390000</td>\n",
       "      <td>0.530000</td>\n",
       "      <td>3.000000</td>\n",
       "      <td>0.000000</td>\n",
       "      <td>0.000000</td>\n",
       "      <td>17.254902</td>\n",
       "      <td>1.000000</td>\n",
       "      <td>0.000000</td>\n",
       "      <td>0.930000</td>\n",
       "      <td>0.742044</td>\n",
       "      <td>4.658664</td>\n",
       "    </tr>\n",
       "    <tr>\n",
       "      <th>75%</th>\n",
       "      <td>9.622290e+06</td>\n",
       "      <td>51729.000000</td>\n",
       "      <td>11.000000</td>\n",
       "      <td>33.000000</td>\n",
       "      <td>20.000000</td>\n",
       "      <td>1.000000</td>\n",
       "      <td>0.877086</td>\n",
       "      <td>0.695808</td>\n",
       "      <td>0.710000</td>\n",
       "      <td>0.800000</td>\n",
       "      <td>5.000000</td>\n",
       "      <td>0.000000</td>\n",
       "      <td>0.000000</td>\n",
       "      <td>22.236663</td>\n",
       "      <td>1.000000</td>\n",
       "      <td>0.000000</td>\n",
       "      <td>0.956094</td>\n",
       "      <td>0.805000</td>\n",
       "      <td>5.000000</td>\n",
       "    </tr>\n",
       "    <tr>\n",
       "      <th>max</th>\n",
       "      <td>1.142207e+07</td>\n",
       "      <td>72244.000000</td>\n",
       "      <td>11.000000</td>\n",
       "      <td>35.000000</td>\n",
       "      <td>194.000000</td>\n",
       "      <td>1.000000</td>\n",
       "      <td>1.000000</td>\n",
       "      <td>1.000000</td>\n",
       "      <td>1.000000</td>\n",
       "      <td>1.000000</td>\n",
       "      <td>27.000000</td>\n",
       "      <td>24.000000</td>\n",
       "      <td>7.000000</td>\n",
       "      <td>100.000000</td>\n",
       "      <td>1.000000</td>\n",
       "      <td>1.000000</td>\n",
       "      <td>1.000000</td>\n",
       "      <td>1.000000</td>\n",
       "      <td>6.000000</td>\n",
       "    </tr>\n",
       "  </tbody>\n",
       "</table>\n",
       "</div>"
      ],
      "text/plain": [
       "         student_id      group_id    feat_class  feat_group_weeks  \\\n",
       "count  6.733800e+04  67338.000000  67338.000000      67338.000000   \n",
       "mean   5.819781e+06  40180.076435     10.248849         29.343268   \n",
       "std    4.484174e+06  13695.909825      0.903591          6.640665   \n",
       "min    2.742000e+03  13917.000000      9.000000          4.000000   \n",
       "25%    3.075420e+05  28162.000000      9.000000         29.000000   \n",
       "50%    9.000006e+06  36769.000000     11.000000         33.000000   \n",
       "75%    9.622290e+06  51729.000000     11.000000         33.000000   \n",
       "max    1.142207e+07  72244.000000     11.000000         35.000000   \n",
       "\n",
       "       feat_group_size  feat_attendance       feat_HW  feat_HW_right  \\\n",
       "count     67338.000000     67338.000000  67338.000000   67338.000000   \n",
       "mean         21.898096         0.887237      0.618251       0.486862   \n",
       "std          25.418138         0.208232      0.299286       0.257425   \n",
       "min           1.000000         0.000000      0.000000       0.000000   \n",
       "25%          12.000000         0.880000      0.400892       0.291120   \n",
       "50%          16.000000         0.980000      0.677750       0.511811   \n",
       "75%          20.000000         1.000000      0.877086       0.695808   \n",
       "max         194.000000         1.000000      1.000000       1.000000   \n",
       "\n",
       "       feat_theory_read       feat_TK       feat_LB  feat_tickets_we_need  \\\n",
       "count      67338.000000  67338.000000  67338.000000          67338.000000   \n",
       "mean           0.438003      0.539958      2.826547              0.353990   \n",
       "std            0.320549      0.308143      1.982354              1.174556   \n",
       "min            0.000000      0.000000      0.000000              0.000000   \n",
       "25%            0.150000      0.290000      1.000000              0.000000   \n",
       "50%            0.390000      0.530000      3.000000              0.000000   \n",
       "75%            0.710000      0.800000      5.000000              0.000000   \n",
       "max            1.000000      1.000000     27.000000             24.000000   \n",
       "\n",
       "       feat_tickets_mb_term  feat_term_perc  feat_good_agr_before  \\\n",
       "count          67338.000000    67338.000000          67338.000000   \n",
       "mean               0.023167       17.719212              0.938979   \n",
       "std                0.204566        6.715806              0.239370   \n",
       "min                0.000000        0.000000              0.000000   \n",
       "25%                0.000000       13.471503              1.000000   \n",
       "50%                0.000000       17.254902              1.000000   \n",
       "75%                0.000000       22.236663              1.000000   \n",
       "max                7.000000      100.000000              1.000000   \n",
       "\n",
       "             target  feat_prep_attendence  feat_prep_HW  feat_prep_OpenLessons  \n",
       "count  67338.000000          67338.000000  67338.000000           67338.000000  \n",
       "mean       0.134293              0.929856      0.737299               4.658664  \n",
       "std        0.340969              0.037516      0.102348               0.705510  \n",
       "min        0.000000              0.620000      0.000000               0.000000  \n",
       "25%        0.000000              0.909316      0.680000               4.150000  \n",
       "50%        0.000000              0.930000      0.742044               4.658664  \n",
       "75%        0.000000              0.956094      0.805000               5.000000  \n",
       "max        1.000000              1.000000      1.000000               6.000000  "
      ]
     },
     "execution_count": 9,
     "metadata": {},
     "output_type": "execute_result"
    }
   ],
   "source": [
    "df.describe()"
   ]
  },
  {
   "cell_type": "code",
   "execution_count": 10,
   "id": "175d57df-cf27-4563-8141-8e8b114c7a49",
   "metadata": {},
   "outputs": [
    {
     "name": "stdout",
     "output_type": "stream",
     "text": [
      "<class 'pandas.core.frame.DataFrame'>\n",
      "RangeIndex: 67338 entries, 0 to 67337\n",
      "Data columns (total 26 columns):\n",
      " #   Column                 Non-Null Count  Dtype  \n",
      "---  ------                 --------------  -----  \n",
      " 0   student_id             67338 non-null  int64  \n",
      " 1   student_email          67338 non-null  object \n",
      " 2   group_id               67338 non-null  int64  \n",
      " 3   group_title            67338 non-null  object \n",
      " 4   prep_email             67338 non-null  object \n",
      " 5   date_first_l           67338 non-null  object \n",
      " 6   feat_class             67338 non-null  int64  \n",
      " 7   feat_group_format      67338 non-null  object \n",
      " 8   feat_group_weeks       67338 non-null  int64  \n",
      " 9   feat_group_size        67338 non-null  int64  \n",
      " 10  feat_attendance        67338 non-null  float64\n",
      " 11  feat_HW                67338 non-null  float64\n",
      " 12  feat_HW_right          67338 non-null  float64\n",
      " 13  feat_theory_read       67338 non-null  float64\n",
      " 14  feat_TK                67338 non-null  float64\n",
      " 15  feat_LB                67338 non-null  int64  \n",
      " 16  feat_tickets_we_need   67338 non-null  int64  \n",
      " 17  feat_tickets_mb_term   67338 non-null  int64  \n",
      " 18  feat_payment_type      67338 non-null  object \n",
      " 19  feat_payment_place     67338 non-null  object \n",
      " 20  feat_term_perc         67338 non-null  float64\n",
      " 21  feat_good_agr_before   67338 non-null  int64  \n",
      " 22  target                 67338 non-null  int64  \n",
      " 23  feat_prep_attendence   67338 non-null  float64\n",
      " 24  feat_prep_HW           67338 non-null  float64\n",
      " 25  feat_prep_OpenLessons  67338 non-null  float64\n",
      "dtypes: float64(9), int64(10), object(7)\n",
      "memory usage: 13.4+ MB\n"
     ]
    }
   ],
   "source": [
    "df.info()"
   ]
  },
  {
   "cell_type": "code",
   "execution_count": 11,
   "id": "f37e1dab-818d-4195-9cee-d7e9c90f7b7a",
   "metadata": {},
   "outputs": [],
   "source": [
    "encoded_ohe_df = df_no_cat\n",
    "ohe = OneHotEncoder(sparse_output=False, dtype=int)\n",
    "\n",
    "ohe_df_1 = pd.DataFrame(ohe.fit_transform(df_cat[['feat_payment_type']]), columns=ohe.get_feature_names_out(['feat_payment_type']))\n",
    "encoded_ohe_df = pd.concat([encoded_ohe_df, ohe_df_1], axis=1) # В том случае, если хотим добавить закодированные данные\n",
    "ohe = OneHotEncoder(sparse_output=False, dtype=int)\n",
    "ohe_df_2 = pd.DataFrame(ohe.fit_transform(df_cat[['feat_payment_place']]), columns=ohe.get_feature_names_out(['feat_payment_place']))\n",
    "encoded_ohe_df = pd.concat([encoded_ohe_df, ohe_df_2], axis=1) # В том случае, если хотим добавить закодированные данные\n",
    "ohe = OneHotEncoder(sparse_output=False, dtype=int)\n",
    "ohe_df_3 = pd.DataFrame(ohe.fit_transform(df_cat[['feat_group_format']]), columns=ohe.get_feature_names_out(['feat_group_format']))\n",
    "encoded_ohe_df = pd.concat([encoded_ohe_df, ohe_df_3], axis=1) # В том случае, если хотим добавить закодированные данные"
   ]
  },
  {
   "cell_type": "code",
   "execution_count": 12,
   "id": "957b6385-471a-49ba-83bd-fe4fdfae38a3",
   "metadata": {},
   "outputs": [
    {
     "name": "stdout",
     "output_type": "stream",
     "text": [
      "Лучшие признаки: ['target', 'feat_good_agr_before', 'feat_attendance', 'feat_LB', 'feat_HW', 'feat_HW_right', 'feat_theory_read', 'feat_TK', 'feat_payment_type_Позтапная', 'feat_payment_type_Единовременная', 'feat_tickets_mb_term', 'feat_term_perc', 'feat_payment_place_Навигатор', 'feat_prep_HW']\n"
     ]
    }
   ],
   "source": [
    "corr_matrix = encoded_ohe_df.corr()\n",
    "# Выделяем строку корреляции с целевой переменной\n",
    "target_corr = corr_matrix['target'].abs().sort_values(ascending=False)\n",
    "\n",
    "# Выбираем признаки с корреляцией выше порога (например, 0.3)\n",
    "strong_features = target_corr[target_corr > 0.05].index.tolist()\n",
    "\n",
    "print(f\"Лучшие признаки: {strong_features}\")"
   ]
  },
  {
   "cell_type": "code",
   "execution_count": 13,
   "id": "ef16053f-dc94-48e8-a511-c5084527f19b",
   "metadata": {},
   "outputs": [],
   "source": [
    "df_few = encoded_ohe_df[strong_features]\n",
    "X = df_few.drop('target', axis = 1)\n",
    "y = df_few['target']"
   ]
  },
  {
   "cell_type": "code",
   "execution_count": 14,
   "id": "f2bf5520-62dd-4d7d-9c47-a7e1324ccfd6",
   "metadata": {},
   "outputs": [],
   "source": [
    "from sklearn.model_selection import train_test_split\n",
    "from catboost import CatBoostClassifier\n",
    "from sklearn.model_selection import cross_val_score, StratifiedKFold\n",
    "from sklearn.metrics import classification_report\n",
    "from sklearn.model_selection import KFold\n",
    "from sklearn.metrics import f1_score\n",
    "import numpy as np"
   ]
  },
  {
   "cell_type": "code",
   "execution_count": 15,
   "id": "adbb678d-f294-47fe-9e03-76816aed3d2b",
   "metadata": {},
   "outputs": [],
   "source": [
    "kfold = KFold(n_splits=10, shuffle=True)\n",
    "skf = StratifiedKFold(n_splits=5, shuffle=True)"
   ]
  },
  {
   "cell_type": "markdown",
   "id": "d67840e3-c3c3-4bad-88c8-8dfb8277b2d5",
   "metadata": {},
   "source": [
    "## 1. Catboost model with unbalanced data"
   ]
  },
  {
   "cell_type": "code",
   "execution_count": 41,
   "id": "d101e877-9342-4ee3-80a3-e133f94b08b0",
   "metadata": {},
   "outputs": [],
   "source": [
    "X1_train, X1_test, y1_train, y1_test = train_test_split(X, y, test_size=0.2, random_state=42, stratify=y)"
   ]
  },
  {
   "cell_type": "code",
   "execution_count": 42,
   "id": "6252e146-79f1-4e3e-8919-bf69cff4c1ba",
   "metadata": {},
   "outputs": [
    {
     "name": "stdout",
     "output_type": "stream",
     "text": [
      "Время обучения модели: 1.41 cекунд\n"
     ]
    }
   ],
   "source": [
    "start = time.time()\n",
    "model1 = CatBoostClassifier(iterations=100, random_state=42,  learning_rate=0.2, verbose=0,  task_type='GPU',  boosting_type='Ordered')\n",
    "model1.fit(X1_train, y1_train)\n",
    "print(f'Время обучения модели: {round(time.time() - start,2)} cекунд')"
   ]
  },
  {
   "cell_type": "code",
   "execution_count": 43,
   "id": "0e60c2b7-3376-4ff5-bfdc-c9d412db531e",
   "metadata": {},
   "outputs": [
    {
     "name": "stdout",
     "output_type": "stream",
     "text": [
      "              precision    recall  f1-score   support\n",
      "\n",
      "           0       0.94      0.98      0.96     11659\n",
      "           1       0.84      0.56      0.67      1809\n",
      "\n",
      "    accuracy                           0.93     13468\n",
      "   macro avg       0.89      0.77      0.82     13468\n",
      "weighted avg       0.92      0.93      0.92     13468\n",
      "\n"
     ]
    }
   ],
   "source": [
    "y1_pred = model1.predict(X1_test)\n",
    "print(classification_report(y1_test, y1_pred))"
   ]
  },
  {
   "cell_type": "code",
   "execution_count": 44,
   "id": "bbdf7d8f-74b7-4d0a-8d0a-4461f71154bc",
   "metadata": {},
   "outputs": [
    {
     "name": "stdout",
     "output_type": "stream",
     "text": [
      "f-1 score: 0.678 \n",
      "Время кроссвалидации: 13.04 секунд\n"
     ]
    }
   ],
   "source": [
    "print(f'f-1 score: {round(cross_val_score(model1, X, y, scoring='f1', cv = skf).mean(),3)} \\nВремя кроссвалидации: {round(time.time() - start,2)} секунд')"
   ]
  },
  {
   "cell_type": "markdown",
   "id": "c6ad136e-921a-4091-9cbb-cd7771e5d404",
   "metadata": {},
   "source": [
    "## 2. Catboost model + oversampling on train dataset"
   ]
  },
  {
   "cell_type": "code",
   "execution_count": 45,
   "id": "43320fd7-718d-4131-aeb2-e6ee06f9b74b",
   "metadata": {},
   "outputs": [],
   "source": [
    "from imblearn.over_sampling import RandomOverSampler"
   ]
  },
  {
   "cell_type": "code",
   "execution_count": 46,
   "id": "2eb1a94a-256c-4ac5-a380-e0995bc541c5",
   "metadata": {},
   "outputs": [],
   "source": [
    "X2_train, X2_test, y2_train, y2_test = train_test_split(X, y, test_size=0.2, random_state=42, stratify=y)"
   ]
  },
  {
   "cell_type": "code",
   "execution_count": 47,
   "id": "b64f9fe2-22d1-4948-95c0-c6a77cc9f4e1",
   "metadata": {},
   "outputs": [],
   "source": [
    "ros = RandomOverSampler()\n",
    "X_over_train, y_over_train = ros.fit_resample(X2_train, y2_train)"
   ]
  },
  {
   "cell_type": "code",
   "execution_count": 61,
   "id": "e692f7b8-f34e-4472-839b-1a7f5df959bd",
   "metadata": {},
   "outputs": [
    {
     "name": "stdout",
     "output_type": "stream",
     "text": [
      "Время обучения модели: 1.7 cекунд\n"
     ]
    }
   ],
   "source": [
    "start = time.time() \n",
    "model_over = CatBoostClassifier(iterations=100, random_state=42,  learning_rate=0.2, verbose=0,  task_type='GPU',  boosting_type='Ordered')\n",
    "model_over.fit(X_over_train, y_over_train)\n",
    "print(f'Время обучения модели: {round(time.time() - start,2)} cекунд')"
   ]
  },
  {
   "cell_type": "code",
   "execution_count": 24,
   "id": "d81e8ffe-359d-4923-a2e4-599bb733c262",
   "metadata": {},
   "outputs": [
    {
     "name": "stdout",
     "output_type": "stream",
     "text": [
      "              precision    recall  f1-score   support\n",
      "\n",
      "           0       0.97      0.88      0.92     11659\n",
      "           1       0.50      0.81      0.62      1809\n",
      "\n",
      "    accuracy                           0.87     13468\n",
      "   macro avg       0.73      0.84      0.77     13468\n",
      "weighted avg       0.90      0.87      0.88     13468\n",
      "\n"
     ]
    }
   ],
   "source": [
    "y_over_pred = model_over.predict(X2_test)\n",
    "print(classification_report(y2_test, y_over_pred))"
   ]
  },
  {
   "cell_type": "markdown",
   "id": "c9e9ab4d-b9fe-449e-87d4-f5acea30372b",
   "metadata": {},
   "source": [
    "## 3. Catboost model + undersampling on dataset"
   ]
  },
  {
   "cell_type": "code",
   "execution_count": 55,
   "id": "efc9cef1-75e5-4938-a86b-4bce4ad2c828",
   "metadata": {},
   "outputs": [],
   "source": [
    "from imblearn.under_sampling import RandomUnderSampler"
   ]
  },
  {
   "cell_type": "code",
   "execution_count": 56,
   "id": "fa1322fa-27c7-4b7e-b28b-f58f0ae20bb3",
   "metadata": {},
   "outputs": [],
   "source": [
    "rus = RandomUnderSampler()\n",
    "X_under, y_under = rus.fit_resample(X, y)\n",
    "\n",
    "X_under_train, X_under_test, y_under_train, y_under_test = train_test_split(X_under, y_under, test_size=0.2, random_state=42)"
   ]
  },
  {
   "cell_type": "code",
   "execution_count": 57,
   "id": "250ce83a-7af9-40a8-a8ae-9a67f32b9d7c",
   "metadata": {},
   "outputs": [
    {
     "name": "stdout",
     "output_type": "stream",
     "text": [
      "Время обучения модели: 24.09 cекунд\n"
     ]
    }
   ],
   "source": [
    "start = time.time() \n",
    "model_under = CatBoostClassifier(iterations=290, depth = 9, random_state=42,  learning_rate=0.04, verbose=0,  task_type='GPU',  boosting_type='Ordered')\n",
    "model_under.fit(X_under_train, y_under_train)\n",
    "print(f'Время обучения модели: {round(time.time() - start,2)} cекунд')"
   ]
  },
  {
   "cell_type": "code",
   "execution_count": 58,
   "id": "4073031e-a7eb-4538-804e-93b29ce1f56b",
   "metadata": {
    "scrolled": true
   },
   "outputs": [
    {
     "name": "stdout",
     "output_type": "stream",
     "text": [
      "              precision    recall  f1-score   support\n",
      "\n",
      "           0       0.82      0.88      0.85      1801\n",
      "           1       0.87      0.81      0.84      1817\n",
      "\n",
      "    accuracy                           0.84      3618\n",
      "   macro avg       0.85      0.85      0.84      3618\n",
      "weighted avg       0.85      0.84      0.84      3618\n",
      "\n"
     ]
    }
   ],
   "source": [
    "y_under_pred = model_under.predict(X_under_test)\n",
    "print(classification_report(y_under_test, y_under_pred))"
   ]
  },
  {
   "cell_type": "code",
   "execution_count": 59,
   "id": "b0a1b080-a18a-43fb-b86a-2c99b4f17549",
   "metadata": {},
   "outputs": [
    {
     "name": "stdout",
     "output_type": "stream",
     "text": [
      "f-1 score: 0.8406 \n",
      "Время кроссвалидации: 112.52 секунд\n"
     ]
    }
   ],
   "source": [
    "start = time.time()\n",
    "print(f'f-1 score: {round(cross_val_score(model_under, X_under, y_under, cv=skf, scoring='f1').mean(),4)} \\nВремя кроссвалидации: {round(time.time() - start,2)} секунд')"
   ]
  },
  {
   "cell_type": "markdown",
   "id": "378d57ab-1274-4a8f-86a9-37b941adce20",
   "metadata": {},
   "source": [
    "## 4. Catboost model + SMOTE"
   ]
  },
  {
   "cell_type": "code",
   "execution_count": 30,
   "id": "af430796-65b9-4451-af1d-892f16c3ea98",
   "metadata": {},
   "outputs": [],
   "source": [
    "from imblearn.over_sampling import SMOTE"
   ]
  },
  {
   "cell_type": "code",
   "execution_count": 31,
   "id": "0cd81de0-7d4f-4056-92e3-2fe9f3643d7c",
   "metadata": {},
   "outputs": [],
   "source": [
    "smote = SMOTE()\n",
    "X_smote, y_smote = smote.fit_resample(X1_train, y1_train)"
   ]
  },
  {
   "cell_type": "code",
   "execution_count": 32,
   "id": "5fc2a363-698d-462c-9312-3421dc820313",
   "metadata": {},
   "outputs": [
    {
     "name": "stdout",
     "output_type": "stream",
     "text": [
      "Время обучения модели: 1.55 cекунд\n"
     ]
    }
   ],
   "source": [
    "start = time.time() \n",
    "cat_smote = CatBoostClassifier(iterations=100, random_state=42,  learning_rate=0.2, verbose=0,  task_type='GPU',  boosting_type='Ordered')\n",
    "cat_smote.fit(X_smote, y_smote)\n",
    "print(f'Время обучения модели: {round(time.time() - start,2)} cекунд')"
   ]
  },
  {
   "cell_type": "code",
   "execution_count": 33,
   "id": "948153f0-7eb4-49b7-89eb-7626216a2e68",
   "metadata": {},
   "outputs": [
    {
     "name": "stdout",
     "output_type": "stream",
     "text": [
      "              precision    recall  f1-score   support\n",
      "\n",
      "           0       0.96      0.90      0.93     11659\n",
      "           1       0.55      0.75      0.63      1809\n",
      "\n",
      "    accuracy                           0.88     13468\n",
      "   macro avg       0.75      0.83      0.78     13468\n",
      "weighted avg       0.90      0.88      0.89     13468\n",
      "\n"
     ]
    }
   ],
   "source": [
    "y_smote_pred = cat_smote.predict(X1_test)\n",
    "print(classification_report(y1_test, y_smote_pred))"
   ]
  },
  {
   "cell_type": "markdown",
   "id": "7955f3b4-b794-40bd-8831-92ddd8db6c1e",
   "metadata": {},
   "source": [
    "## 5. Catboost model + ADASYN"
   ]
  },
  {
   "cell_type": "code",
   "execution_count": 34,
   "id": "68031b55-ffdc-450d-990f-eb8782b4fde1",
   "metadata": {},
   "outputs": [],
   "source": [
    "from imblearn.over_sampling import ADASYN\n",
    "adasyn = ADASYN()\n",
    "X_train, X_test, y_train, y_test = train_test_split(X, y, test_size=0.2, random_state=42, stratify = y)\n",
    "X_adasyn, y_adasyn = adasyn.fit_resample(X_train, y_train)"
   ]
  },
  {
   "cell_type": "code",
   "execution_count": 35,
   "id": "2b21c6d7-2f42-4b7d-8f3c-1fdc8dd50bcd",
   "metadata": {},
   "outputs": [
    {
     "name": "stdout",
     "output_type": "stream",
     "text": [
      "Время обучения модели: 1.42 cекунд\n"
     ]
    }
   ],
   "source": [
    "start = time.time() \n",
    "cat_adasyn = CatBoostClassifier(iterations=100, random_state=42,  learning_rate=0.2, verbose=0,  task_type='GPU',  boosting_type='Ordered')\n",
    "cat_adasyn.fit(X_adasyn, y_adasyn)\n",
    "print(f'Время обучения модели: {round(time.time() - start,2)} cекунд')"
   ]
  },
  {
   "cell_type": "code",
   "execution_count": 36,
   "id": "a8ac6b8f-07a0-4b76-9182-94b088bab9c2",
   "metadata": {},
   "outputs": [
    {
     "name": "stdout",
     "output_type": "stream",
     "text": [
      "              precision    recall  f1-score   support\n",
      "\n",
      "           0       0.96      0.88      0.92     11659\n",
      "           1       0.49      0.77      0.60      1809\n",
      "\n",
      "    accuracy                           0.86     13468\n",
      "   macro avg       0.73      0.82      0.76     13468\n",
      "weighted avg       0.90      0.86      0.87     13468\n",
      "\n"
     ]
    }
   ],
   "source": [
    "y_adasyn_pred = cat_adasyn.predict(X_test)\n",
    "print(classification_report(y_test, y_adasyn_pred))"
   ]
  },
  {
   "cell_type": "markdown",
   "id": "92ee46c5-0c8b-4361-8b11-466386a9e455",
   "metadata": {},
   "source": [
    "# Optimization of the Best model"
   ]
  },
  {
   "cell_type": "code",
   "execution_count": 37,
   "id": "9e742d53-6b41-4409-b2c3-9a37db64c619",
   "metadata": {},
   "outputs": [],
   "source": [
    "from sklearn.model_selection import GridSearchCV"
   ]
  },
  {
   "cell_type": "code",
   "execution_count": 60,
   "id": "87f31398-c3df-4b13-8304-a69b6f481678",
   "metadata": {},
   "outputs": [
    {
     "name": "stdout",
     "output_type": "stream",
     "text": [
      "|   iter    |  target   |   depth   | iterat... | learni... |\n",
      "-------------------------------------------------------------\n",
      "| \u001b[39m1        \u001b[39m | \u001b[39m0.8258   \u001b[39m | \u001b[39m6.247    \u001b[39m | \u001b[39m955.6    \u001b[39m | \u001b[39m0.1491   \u001b[39m |\n",
      "| \u001b[35m2        \u001b[39m | \u001b[35m0.8306   \u001b[39m | \u001b[35m7.592    \u001b[39m | \u001b[35m240.4    \u001b[39m | \u001b[35m0.03964  \u001b[39m |\n",
      "| \u001b[39m3        \u001b[39m | \u001b[39m0.8283   \u001b[39m | \u001b[39m4.349    \u001b[39m | \u001b[39m879.6    \u001b[39m | \u001b[39m0.1242   \u001b[39m |\n",
      "| \u001b[35m4        \u001b[39m | \u001b[35m0.8337   \u001b[39m | \u001b[35m8.248    \u001b[39m | \u001b[35m118.5    \u001b[39m | \u001b[35m0.1943   \u001b[39m |\n",
      "| \u001b[39m5        \u001b[39m | \u001b[39m0.8321   \u001b[39m | \u001b[39m8.995    \u001b[39m | \u001b[39m291.1    \u001b[39m | \u001b[39m0.04455  \u001b[39m |\n",
      "| \u001b[39m6        \u001b[39m | \u001b[39m0.828    \u001b[39m | \u001b[39m9.644    \u001b[39m | \u001b[39m396.4    \u001b[39m | \u001b[39m0.01802  \u001b[39m |\n",
      "| \u001b[39m7        \u001b[39m | \u001b[39m0.8297   \u001b[39m | \u001b[39m7.203    \u001b[39m | \u001b[39m118.2    \u001b[39m | \u001b[39m0.1668   \u001b[39m |\n",
      "| \u001b[39m8        \u001b[39m | \u001b[39m0.8287   \u001b[39m | \u001b[39m7.604    \u001b[39m | \u001b[39m240.5    \u001b[39m | \u001b[39m0.09224  \u001b[39m |\n",
      "| \u001b[39m9        \u001b[39m | \u001b[39m0.8274   \u001b[39m | \u001b[39m9.658    \u001b[39m | \u001b[39m431.1    \u001b[39m | \u001b[39m0.05205  \u001b[39m |\n",
      "| \u001b[39m10       \u001b[39m | \u001b[39m0.8302   \u001b[39m | \u001b[39m9.365    \u001b[39m | \u001b[39m875.4    \u001b[39m | \u001b[39m0.08851  \u001b[39m |\n",
      "| \u001b[39m11       \u001b[39m | \u001b[39m0.8268   \u001b[39m | \u001b[39m5.994    \u001b[39m | \u001b[39m711.9    \u001b[39m | \u001b[39m0.193    \u001b[39m |\n",
      "| \u001b[39m12       \u001b[39m | \u001b[39m0.833    \u001b[39m | \u001b[39m4.567    \u001b[39m | \u001b[39m821.1    \u001b[39m | \u001b[39m0.1232   \u001b[39m |\n",
      "| \u001b[39m13       \u001b[39m | \u001b[39m0.8283   \u001b[39m | \u001b[39m6.418    \u001b[39m | \u001b[39m856.6    \u001b[39m | \u001b[39m0.1539   \u001b[39m |\n",
      "| \u001b[39m14       \u001b[39m | \u001b[39m0.8299   \u001b[39m | \u001b[39m7.662    \u001b[39m | \u001b[39m299.3    \u001b[39m | \u001b[39m0.1955   \u001b[39m |\n",
      "| \u001b[35m15       \u001b[39m | \u001b[35m0.834    \u001b[39m | \u001b[35m4.245    \u001b[39m | \u001b[35m540.0    \u001b[39m | \u001b[35m0.1224   \u001b[39m |\n",
      "| \u001b[39m16       \u001b[39m | \u001b[39m0.8307   \u001b[39m | \u001b[39m5.85     \u001b[39m | \u001b[39m875.0    \u001b[39m | \u001b[39m0.02783  \u001b[39m |\n",
      "| \u001b[39m17       \u001b[39m | \u001b[39m0.8334   \u001b[39m | \u001b[39m8.983    \u001b[39m | \u001b[39m675.4    \u001b[39m | \u001b[39m0.09696  \u001b[39m |\n",
      "| \u001b[39m18       \u001b[39m | \u001b[39m0.8293   \u001b[39m | \u001b[39m5.609    \u001b[39m | \u001b[39m329.8    \u001b[39m | \u001b[39m0.1059   \u001b[39m |\n",
      "| \u001b[39m19       \u001b[39m | \u001b[39m0.8315   \u001b[39m | \u001b[39m7.674    \u001b[39m | \u001b[39m155.4    \u001b[39m | \u001b[39m0.09072  \u001b[39m |\n",
      "| \u001b[39m20       \u001b[39m | \u001b[39m0.8309   \u001b[39m | \u001b[39m7.554    \u001b[39m | \u001b[39m747.7    \u001b[39m | \u001b[39m0.03432  \u001b[39m |\n",
      "| \u001b[39m21       \u001b[39m | \u001b[39m0.8275   \u001b[39m | \u001b[39m9.674    \u001b[39m | \u001b[39m506.3    \u001b[39m | \u001b[39m0.183    \u001b[39m |\n",
      "| \u001b[39m22       \u001b[39m | \u001b[39m0.8293   \u001b[39m | \u001b[39m8.084    \u001b[39m | \u001b[39m418.5    \u001b[39m | \u001b[39m0.03738  \u001b[39m |\n",
      "| \u001b[39m23       \u001b[39m | \u001b[39m0.8286   \u001b[39m | \u001b[39m6.018    \u001b[39m | \u001b[39m152.3    \u001b[39m | \u001b[39m0.1769   \u001b[39m |\n",
      "| \u001b[39m24       \u001b[39m | \u001b[39m0.8297   \u001b[39m | \u001b[39m9.282    \u001b[39m | \u001b[39m853.9    \u001b[39m | \u001b[39m0.07095  \u001b[39m |\n",
      "| \u001b[39m25       \u001b[39m | \u001b[39m0.8314   \u001b[39m | \u001b[39m5.975    \u001b[39m | \u001b[39m966.8    \u001b[39m | \u001b[39m0.106    \u001b[39m |\n",
      "| \u001b[39m26       \u001b[39m | \u001b[39m0.8317   \u001b[39m | \u001b[39m8.613    \u001b[39m | \u001b[39m173.5    \u001b[39m | \u001b[39m0.1313   \u001b[39m |\n",
      "| \u001b[39m27       \u001b[39m | \u001b[39m0.8286   \u001b[39m | \u001b[39m7.161    \u001b[39m | \u001b[39m299.1    \u001b[39m | \u001b[39m0.1878   \u001b[39m |\n",
      "| \u001b[35m28       \u001b[39m | \u001b[35m0.8347   \u001b[39m | \u001b[35m4.422    \u001b[39m | \u001b[35m802.6    \u001b[39m | \u001b[35m0.1758   \u001b[39m |\n",
      "| \u001b[39m29       \u001b[39m | \u001b[39m0.8332   \u001b[39m | \u001b[39m5.149    \u001b[39m | \u001b[39m478.6    \u001b[39m | \u001b[39m0.1779   \u001b[39m |\n",
      "| \u001b[39m30       \u001b[39m | \u001b[39m0.8309   \u001b[39m | \u001b[39m7.702    \u001b[39m | \u001b[39m142.4    \u001b[39m | \u001b[39m0.1704   \u001b[39m |\n",
      "=============================================================\n",
      "Наилучшие параметры: {'depth': 4.421942456458391, 'iterations': 802.6383245514805, 'learning_rate': 0.1757794134594452}\n"
     ]
    }
   ],
   "source": [
    "from bayes_opt import BayesianOptimization\n",
    "from catboost import CatBoostClassifier\n",
    "from sklearn.metrics import accuracy_score\n",
    "\n",
    "rus = RandomUnderSampler()\n",
    "X_under, y_under = rus.fit_resample(X, y)\n",
    "\n",
    "X_under_train, X_under_test, y_under_train, y_under_test = train_test_split(X_under, y_under, test_size=0.2, random_state=42)\n",
    "\n",
    "# Функция для обучения и оценки модели\n",
    "def catboost_evaluate(learning_rate, depth, iterations):\n",
    "    model = CatBoostClassifier(\n",
    "        task_type='GPU',\n",
    "        boosting_type='Ordered',\n",
    "        learning_rate=learning_rate,\n",
    "        depth=int(depth),\n",
    "        iterations=int(iterations),\n",
    "        random_state=42,\n",
    "        verbose=0\n",
    "    )\n",
    "    \n",
    "    model.fit(X_under_train, y_under_train)\n",
    "    y_pred = model.predict(X_under_test)\n",
    "    \n",
    "    return f1_score(y_under_test, y_pred)\n",
    "\n",
    "# Параметры для оптимизации\n",
    "param_bounds = {\n",
    "    'learning_rate': (0.01, 0.2),\n",
    "    'depth': (4, 10),\n",
    "    'iterations': (100, 1000)\n",
    "}\n",
    "\n",
    "# Оптимизация\n",
    "optimizer = BayesianOptimization(\n",
    "    f=catboost_evaluate,\n",
    "    pbounds=param_bounds,\n",
    "    random_state=42\n",
    ")\n",
    "\n",
    "# Запуск оптимизации\n",
    "optimizer.maximize(init_points=5, n_iter=25)\n",
    "\n",
    "# Получение наилучших параметров\n",
    "best_params = optimizer.max['params']\n",
    "print(\"Наилучшие параметры:\", best_params)"
   ]
  },
  {
   "cell_type": "code",
   "execution_count": null,
   "id": "dd762e7d-7b94-4a80-970b-7d6ad645baa2",
   "metadata": {},
   "outputs": [],
   "source": []
  }
 ],
 "metadata": {
  "kernelspec": {
   "display_name": "Python 3 (ipykernel)",
   "language": "python",
   "name": "python3"
  },
  "language_info": {
   "codemirror_mode": {
    "name": "ipython",
    "version": 3
   },
   "file_extension": ".py",
   "mimetype": "text/x-python",
   "name": "python",
   "nbconvert_exporter": "python",
   "pygments_lexer": "ipython3",
   "version": "3.12.6"
  }
 },
 "nbformat": 4,
 "nbformat_minor": 5
}
